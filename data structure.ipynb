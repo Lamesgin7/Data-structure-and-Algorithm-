{
 "cells": [
  {
   "cell_type": "markdown",
   "metadata": {},
   "source": [
    "<h3>Name:Lamesgin Adane</h3>\n",
    "<h3>Id number:1601853</h3>\n",
    "<h3>Department:Data Science</h3>\n",
    "<h3>course Name:Data structure and algorism</h3>\n",
    "<h3>Gethub:Lamesgin7</h3>\n",
    "<h3>Email:lamesginadane784@gmail.com</h3>\n",
    "\n"
   ]
  },
  {
   "cell_type": "markdown",
   "metadata": {},
   "source": [
    "Create a Python program that generates at least 10 students' profiles that contain (id, name,  dept, cgpa)\n",
    "using a dictionary like the following format"
   ]
  },
  {
   "cell_type": "markdown",
   "metadata": {},
   "source": [
    "# Sort by ID using Bubble Sort"
   ]
  },
  {
   "cell_type": "code",
   "execution_count": null,
   "metadata": {},
   "outputs": [
    {
     "name": "stdout",
     "output_type": "stream",
     "text": [
      "Sorted by ID (Bubble Sort):\n",
      "{'id': 'DBU1500004', 'name': 'Hanna', 'dept': 'cs', 'cgpa': 3.6}\n",
      "{'id': 'DBU1500007', 'name': 'Elias', 'dept': 'IT', 'cgpa': 2.9}\n",
      "{'id': 'DBU1500008', 'name': 'Daniel', 'dept': 'se', 'cgpa': 3.8}\n",
      "{'id': 'DBU1500010', 'name': 'Abrham', 'dept': 'CS', 'cgpa': 3.12}\n",
      "{'id': 'DBU1500025', 'name': 'Dawit', 'dept': 'DS', 'cgpa': 3.34}\n",
      "{'id': 'DBU1500027', 'name': 'Ruth', 'dept': 'CE', 'cgpa': 3.2}\n",
      "{'id': 'DBU1500031', 'name': 'Tigist', 'dept': 'SE', 'cgpa': 3.5}\n",
      "{'id': 'DBU1500053', 'name': 'Rahel', 'dept': 'CS', 'cgpa': 3.1}\n",
      "{'id': 'DBU1500055', 'name': 'Betelihem', 'dept': 'DS', 'cgpa': 2.74}\n",
      "{'id': 'DBU1500062', 'name': 'Fasil', 'dept': 'IT', 'cgpa': 3.0}\n",
      "\n",
      "\n"
     ]
    }
   ],
   "source": [
    "Students = [\n",
    "    {'id': 'DBU1500025', 'name': 'Dawit', 'dept': 'DS', 'cgpa': 3.34},\n",
    "    {'id': 'DBU1500010', 'name': 'Abrham', 'dept': 'CS', 'cgpa': 3.12},\n",
    "    {'id': 'DBU1500055', 'name': 'Betelihem', 'dept': 'DS', 'cgpa': 2.74},\n",
    "    {'id': 'DBU1500053', 'name': 'Rahel', 'dept': 'CS', 'cgpa': 3.10},\n",
    "    {'id': 'DBU1500008', 'name': 'Daniel', 'dept': 'se', 'cgpa': 3.80},\n",
    "    {'id': 'DBU1500031', 'name': 'Tigist', 'dept': 'SE', 'cgpa': 3.50},\n",
    "    {'id': 'DBU1500007', 'name': 'Elias', 'dept': 'IT', 'cgpa': 2.90},\n",
    "    {'id': 'DBU1500004', 'name': 'Hanna', 'dept': 'cs', 'cgpa': 3.60},\n",
    "    {'id': 'DBU1500027', 'name': 'Ruth', 'dept': 'CE', 'cgpa': 3.20},\n",
    "    {'id': 'DBU1500062', 'name': 'Fasil', 'dept': 'IT', 'cgpa': 3.00}\n",
    "]\n",
    "\n",
    "def bubble_sort_by_id(student_list):\n",
    "    \n",
    "    n = len(student_list)\n",
    "    for i in range(n):\n",
    "        for j in range(0, n - i - 1):\n",
    "            if student_list[j]['id'] > student_list[j + 1]['id']:\n",
    "                student_list[j], student_list[j + 1] = student_list[j + 1], student_list[j] \n",
    "    return student_list\n",
    "\n",
    "sorted_by_id = bubble_sort_by_id(Students.copy()) \n",
    "print(\"Sorted by ID (Bubble Sort):\")\n",
    "for student in sorted_by_id:\n",
    "    print(student)\n",
    "print(\"\\n\")\n",
    "\n"
   ]
  },
  {
   "cell_type": "markdown",
   "metadata": {},
   "source": [
    "# Sort by Name using Insertion Sort"
   ]
  },
  {
   "cell_type": "code",
   "execution_count": 7,
   "metadata": {},
   "outputs": [
    {
     "name": "stdout",
     "output_type": "stream",
     "text": [
      "Sorted by Name (Insertion Sort):\n",
      "{'id': 'DBU1500010', 'name': 'Abrham', 'dept': 'CS', 'cgpa': 3.12}\n",
      "{'id': 'DBU1500055', 'name': 'Betelihem', 'dept': 'DS', 'cgpa': 2.74}\n",
      "{'id': 'DBU1500008', 'name': 'Daniel', 'dept': 'se', 'cgpa': 3.8}\n",
      "{'id': 'DBU1500025', 'name': 'Dawit', 'dept': 'DS', 'cgpa': 3.34}\n",
      "{'id': 'DBU1500007', 'name': 'Elias', 'dept': 'IT', 'cgpa': 2.9}\n",
      "{'id': 'DBU1500062', 'name': 'Fasil', 'dept': 'IT', 'cgpa': 3.0}\n",
      "{'id': 'DBU1500004', 'name': 'Hanna', 'dept': 'cs', 'cgpa': 3.6}\n",
      "{'id': 'DBU1500053', 'name': 'Rahel', 'dept': 'CS', 'cgpa': 3.1}\n",
      "{'id': 'DBU1500027', 'name': 'Ruth', 'dept': 'CE', 'cgpa': 3.2}\n",
      "{'id': 'DBU1500031', 'name': 'Tigist', 'dept': 'SE', 'cgpa': 3.5}\n",
      "\n",
      "\n"
     ]
    }
   ],
   "source": [
    "\n",
    "\n",
    "def insertion_sort_by_name(student_list):\n",
    "    for i in range(1, len(student_list)):\n",
    "        key = student_list[i]\n",
    "        j = i - 1\n",
    "        while j >= 0 and key['name'] < student_list[j]['name']:\n",
    "            student_list[j + 1] = student_list[j]\n",
    "            j -= 1\n",
    "        student_list[j + 1] = key\n",
    "    return student_list\n",
    "\n",
    "sorted_by_name = insertion_sort_by_name(Students.copy()) \n",
    "print(\"Sorted by Name (Insertion Sort):\")\n",
    "for student in sorted_by_name:\n",
    "    print(student)\n",
    "print(\"\\n\")"
   ]
  },
  {
   "cell_type": "markdown",
   "metadata": {},
   "source": [
    "# Sort by CGPA using Selection Sort\n"
   ]
  },
  {
   "cell_type": "markdown",
   "metadata": {},
   "source": []
  },
  {
   "cell_type": "code",
   "execution_count": 8,
   "metadata": {},
   "outputs": [
    {
     "name": "stdout",
     "output_type": "stream",
     "text": [
      "Sorted by CGPA (Descending - Selection Sort):\n",
      "{'id': 'DBU1500008', 'name': 'Daniel', 'dept': 'se', 'cgpa': 3.8}\n",
      "{'id': 'DBU1500004', 'name': 'Hanna', 'dept': 'cs', 'cgpa': 3.6}\n",
      "{'id': 'DBU1500031', 'name': 'Tigist', 'dept': 'SE', 'cgpa': 3.5}\n",
      "{'id': 'DBU1500025', 'name': 'Dawit', 'dept': 'DS', 'cgpa': 3.34}\n",
      "{'id': 'DBU1500027', 'name': 'Ruth', 'dept': 'CE', 'cgpa': 3.2}\n",
      "{'id': 'DBU1500010', 'name': 'Abrham', 'dept': 'CS', 'cgpa': 3.12}\n",
      "{'id': 'DBU1500053', 'name': 'Rahel', 'dept': 'CS', 'cgpa': 3.1}\n",
      "{'id': 'DBU1500062', 'name': 'Fasil', 'dept': 'IT', 'cgpa': 3.0}\n",
      "{'id': 'DBU1500007', 'name': 'Elias', 'dept': 'IT', 'cgpa': 2.9}\n",
      "{'id': 'DBU1500055', 'name': 'Betelihem', 'dept': 'DS', 'cgpa': 2.74}\n"
     ]
    }
   ],
   "source": [
    "\n",
    "\n",
    "def selection_sort_by_cgpa_desc(student_list):\n",
    "  \n",
    "    n = len(student_list)\n",
    "    for i in range(n):\n",
    "        max_idx = i  \n",
    "        for j in range(i + 1, n):\n",
    "            if student_list[j]['cgpa'] > student_list[max_idx]['cgpa']:\n",
    "                max_idx = j\n",
    "        student_list[i], student_list[max_idx] = student_list[max_idx], student_list[i]\n",
    "    return student_list\n",
    "sorted_by_cgpa = selection_sort_by_cgpa_desc(Students.copy()) \n",
    "print(\"Sorted by CGPA (Descending - Selection Sort):\")\n",
    "for student in sorted_by_cgpa:\n",
    "    print(student)"
   ]
  },
  {
   "cell_type": "markdown",
   "metadata": {},
   "source": [
    " # <h1 style=\"color:blue\">Performance Analysis and Comparison</h1>\n",
    "1. Bubble Sort: O(n²) in worst and average cases, O(n) in best case (when list is already sorted)\n",
    "- Bubble Sort is the simplest to implement but usually the slowest of the three, especially for larger datasets. Its performance degrades quickly as the number of elements increases.\n",
    "2. Insertion Sort: O(n²) in worst and average cases, O(n) in best case\n",
    "- Insertion Sort typically performs better than Bubble Sort, especially with partially sorted data. It adapts well to nearly sorted lists and can be quite efficient in such cases.\n",
    "3. Selection Sort: O(n²) in all cases (even when list is sorted)\n",
    "- Selection Sort's performance is generally consistent and often falls between Bubble Sort and Insertion Sort in terms of speed. It performs a fixed number of swaps, which can be an advantage in some situations."
   ]
  },
  {
   "cell_type": "markdown",
   "metadata": {},
   "source": [
    "<h1 style=color:green> Discuss the advantages and disadvantages of each algorithm for sorting dictionary data"
   ]
  },
  {
   "cell_type": "markdown",
   "metadata": {},
   "source": [
    "# 1. Bubble Sort\n",
    "\n",
    "    Advantages:\n",
    "\n",
    "-Simple to understand and implement\n",
    "\n",
    "-Works well for small datasets\n",
    "\n",
    "-Stable sort (maintains relative order of equal elements)\n",
    "\n",
    "    Disadvantages:\n",
    "\n",
    "-Very inefficient for large datasets\n",
    "\n",
    "-Many unnecessary comparisons even when list is nearly sorted\n",
    "\n",
    "-For dictionary data: Works fine but inefficient for large collections of student records\n",
    "\n",
    "# 2. Insertion Sort\n",
    "\n",
    "    Advantages:\n",
    "\n",
    "-Efficient for small datasets or nearly sorted data\n",
    "\n",
    "-Stable sort\n",
    "\n",
    "-Simple implementation\n",
    "\n",
    "-Low overhead\n",
    "\n",
    "-Works well with dictionary data where comparisons are based on specific keys\n",
    "\n",
    "    Disadvantages:\n",
    "\n",
    "-Poor performance on large, reverse-ordered lists\n",
    "\n",
    "-Requires shifting many elements for each insertion\n",
    "\n",
    "-For dictionary data: Good choice when you expect data to be nearly sorted already\n",
    "\n",
    "# 3. Selection Sort\n",
    "\n",
    "    Advantages:\n",
    "\n",
    "-Simple to implement\n",
    "\n",
    "-Performs minimum number of swaps (only n swaps total)\n",
    "\n",
    "-In-place sorting (requires no additional storage)\n",
    "\n",
    "    Disadvantages:\n",
    "\n",
    "-Poor performance on large lists\n",
    "\n",
    "-Not stable (may change relative order of equal elements)\n",
    "\n",
    "-Always performs O(n²) comparisons regardless of initial order\n",
    "\n",
    "-For dictionary data: Not ideal unless minimizing swaps is critical"
   ]
  },
  {
   "cell_type": "markdown",
   "metadata": {},
   "source": []
  },
  {
   "cell_type": "markdown",
   "metadata": {},
   "source": [
    "# General Recommendations:\n",
    "-For small datasets (like our 10 students), all three algorithms perform similarly well.\n",
    "\n",
    "-For larger datasets, none of these would be optimal - consider merge sort or quicksort.\n",
    "\n",
    "-When sorting dictionary data:\n",
    "\n",
    "-Consider what key you're sorting by\n",
    "\n",
    "-Consider whether stability matters (maintaining original order for equal keys)\n",
    "\n",
    "-Consider whether the data is likely to be partially sorted"
   ]
  },
  {
   "cell_type": "markdown",
   "metadata": {},
   "source": []
  }
 ],
 "metadata": {
  "kernelspec": {
   "display_name": "Python 3",
   "language": "python",
   "name": "python3"
  },
  "language_info": {
   "codemirror_mode": {
    "name": "ipython",
    "version": 3
   },
   "file_extension": ".py",
   "mimetype": "text/x-python",
   "name": "python",
   "nbconvert_exporter": "python",
   "pygments_lexer": "ipython3",
   "version": "3.13.0"
  }
 },
 "nbformat": 4,
 "nbformat_minor": 2
}
